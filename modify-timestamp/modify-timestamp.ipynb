{
 "cells": [
  {
   "cell_type": "code",
   "execution_count": 11,
   "metadata": {},
   "outputs": [],
   "source": [
    "import pandas as pd\n",
    "from datetime import datetime,timedelta \n",
    "import numpy as np"
   ]
  },
  {
   "cell_type": "markdown",
   "metadata": {},
   "source": [
    "## Time Frequency Referrence\n",
    "\n",
    "* B\t- business day frequency\n",
    "* C\t- custom business day frequency\n",
    "* D\t- calendar day frequency\n",
    "* W\t- weekly frequency\n",
    "* M\t- month end frequency\n",
    "* BM - business month end frequency\n",
    "* CBM - custom business month end frequency\n",
    "* MS - month start frequency\n",
    "* SMS - semi-month start frequency (1st and 15th)\n",
    "* BMS - business month start frequency\n",
    "* CBMS - custom business month start frequency\n",
    "* Q - quarter end frequency\n",
    "* BQ - business quarter end frequency\n",
    "* QS - quarter start frequency\n",
    "* BQS - business quarter start frequency\n",
    "* A, Y - year end frequency\n",
    "* BA, BY - business year end frequency\n",
    "* AS, YS - year start frequency\n",
    "* BAS, BYS - business year start frequency\n",
    "* BH - business hour frequency\n",
    "* H - hourly frequency\n",
    "* T, min - minutely frequency\n",
    "* S - secondly frequency\n",
    "* L, ms - milliseconds\n",
    "* U, us - microseconds\n",
    "* N - nanoseconds"
   ]
  },
  {
   "cell_type": "code",
   "execution_count": 12,
   "metadata": {},
   "outputs": [],
   "source": [
    "df1 = pd.read_csv(\"data.csv\")\n",
    "start_date_time = '2018-01-01 00:00:00'\n",
    "time_frequency = '10S'\n",
    "rows = df1.shape[0]\n"
   ]
  },
  {
   "cell_type": "code",
   "execution_count": 13,
   "metadata": {},
   "outputs": [],
   "source": [
    "start_date = datetime.strptime(start_date_time, '%Y-%m-%d %H:%M:%S')\n",
    "end_date = start_date + timedelta(minutes=5*(rows-1))\n",
    "\n",
    "date_rng = pd.date_range(start=start_date, end=end_date, freq=time_frequency)\n",
    "df2 = pd.DataFrame(date_rng)"
   ]
  },
  {
   "cell_type": "code",
   "execution_count": 14,
   "metadata": {},
   "outputs": [
    {
     "data": {
      "text/html": [
       "<div>\n",
       "<style scoped>\n",
       "    .dataframe tbody tr th:only-of-type {\n",
       "        vertical-align: middle;\n",
       "    }\n",
       "\n",
       "    .dataframe tbody tr th {\n",
       "        vertical-align: top;\n",
       "    }\n",
       "\n",
       "    .dataframe thead th {\n",
       "        text-align: right;\n",
       "    }\n",
       "</style>\n",
       "<table border=\"1\" class=\"dataframe\">\n",
       "  <thead>\n",
       "    <tr style=\"text-align: right;\">\n",
       "      <th></th>\n",
       "      <th>@timestamp</th>\n",
       "      <th>system.cpu.user.pct</th>\n",
       "      <th>system.cpu.system.pct</th>\n",
       "      <th>system.cpu.idle.pct</th>\n",
       "      <th>system.cpu.iowait.pct</th>\n",
       "      <th>system.cpu.softirq.pct</th>\n",
       "      <th>system.cpu.total.pct</th>\n",
       "    </tr>\n",
       "  </thead>\n",
       "  <tbody>\n",
       "    <tr>\n",
       "      <th>0</th>\n",
       "      <td>2018-01-01 00:00:00</td>\n",
       "      <td>23.64%</td>\n",
       "      <td>5.01%</td>\n",
       "      <td>367.15%</td>\n",
       "      <td>3.1%</td>\n",
       "      <td>1.1%</td>\n",
       "      <td>32.85%</td>\n",
       "    </tr>\n",
       "    <tr>\n",
       "      <th>1</th>\n",
       "      <td>2018-01-01 00:00:10</td>\n",
       "      <td>21.02%</td>\n",
       "      <td>5.35%</td>\n",
       "      <td>372.42%</td>\n",
       "      <td>0.3%</td>\n",
       "      <td>0.91%</td>\n",
       "      <td>27.58%</td>\n",
       "    </tr>\n",
       "    <tr>\n",
       "      <th>2</th>\n",
       "      <td>2018-01-01 00:00:20</td>\n",
       "      <td>24.79%</td>\n",
       "      <td>6.65%</td>\n",
       "      <td>366.65%</td>\n",
       "      <td>0.81%</td>\n",
       "      <td>1.11%</td>\n",
       "      <td>33.35%</td>\n",
       "    </tr>\n",
       "    <tr>\n",
       "      <th>3</th>\n",
       "      <td>2018-01-01 00:00:30</td>\n",
       "      <td>24.13%</td>\n",
       "      <td>5.68%</td>\n",
       "      <td>367.39%</td>\n",
       "      <td>1.6%</td>\n",
       "      <td>1.2%</td>\n",
       "      <td>32.61%</td>\n",
       "    </tr>\n",
       "    <tr>\n",
       "      <th>4</th>\n",
       "      <td>2018-01-01 00:00:40</td>\n",
       "      <td>23.9%</td>\n",
       "      <td>6.1%</td>\n",
       "      <td>367.8%</td>\n",
       "      <td>1.07%</td>\n",
       "      <td>1.12%</td>\n",
       "      <td>32.2%</td>\n",
       "    </tr>\n",
       "  </tbody>\n",
       "</table>\n",
       "</div>"
      ],
      "text/plain": [
       "           @timestamp system.cpu.user.pct system.cpu.system.pct  \\\n",
       "0 2018-01-01 00:00:00              23.64%                 5.01%   \n",
       "1 2018-01-01 00:00:10              21.02%                 5.35%   \n",
       "2 2018-01-01 00:00:20              24.79%                 6.65%   \n",
       "3 2018-01-01 00:00:30              24.13%                 5.68%   \n",
       "4 2018-01-01 00:00:40               23.9%                  6.1%   \n",
       "\n",
       "  system.cpu.idle.pct system.cpu.iowait.pct system.cpu.softirq.pct  \\\n",
       "0             367.15%                  3.1%                   1.1%   \n",
       "1             372.42%                  0.3%                  0.91%   \n",
       "2             366.65%                 0.81%                  1.11%   \n",
       "3             367.39%                  1.6%                   1.2%   \n",
       "4              367.8%                 1.07%                  1.12%   \n",
       "\n",
       "  system.cpu.total.pct  \n",
       "0               32.85%  \n",
       "1               27.58%  \n",
       "2               33.35%  \n",
       "3               32.61%  \n",
       "4                32.2%  "
      ]
     },
     "execution_count": 14,
     "metadata": {},
     "output_type": "execute_result"
    }
   ],
   "source": [
    "df1[\"@timestamp\"] = df2\n",
    "df1.head()"
   ]
  },
  {
   "cell_type": "code",
   "execution_count": 15,
   "metadata": {},
   "outputs": [],
   "source": [
    "df.to_csv(\"data_with_timestamp.csv\")"
   ]
  }
 ],
 "metadata": {
  "kernelspec": {
   "display_name": "Python 3",
   "language": "python",
   "name": "python3"
  },
  "language_info": {
   "codemirror_mode": {
    "name": "ipython",
    "version": 3
   },
   "file_extension": ".py",
   "mimetype": "text/x-python",
   "name": "python",
   "nbconvert_exporter": "python",
   "pygments_lexer": "ipython3",
   "version": "3.6.5"
  }
 },
 "nbformat": 4,
 "nbformat_minor": 2
}
