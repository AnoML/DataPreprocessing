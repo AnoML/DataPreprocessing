{
 "cells": [
  {
   "cell_type": "markdown",
   "metadata": {},
   "source": [
    "# Memory Preprocessing"
   ]
  },
  {
   "cell_type": "code",
   "execution_count": 1,
   "metadata": {},
   "outputs": [],
   "source": [
    "from pandas import DataFrame\n",
    "from pandas import read_csv\n",
    "from pandas import set_option\n",
    "from matplotlib import pyplot\n",
    "\n",
    "set_option('display.max_columns', 50)"
   ]
  },
  {
   "cell_type": "code",
   "execution_count": 2,
   "metadata": {},
   "outputs": [
    {
     "data": {
      "text/html": [
       "<div>\n",
       "<style scoped>\n",
       "    .dataframe tbody tr th:only-of-type {\n",
       "        vertical-align: middle;\n",
       "    }\n",
       "\n",
       "    .dataframe tbody tr th {\n",
       "        vertical-align: top;\n",
       "    }\n",
       "\n",
       "    .dataframe thead th {\n",
       "        text-align: right;\n",
       "    }\n",
       "</style>\n",
       "<table border=\"1\" class=\"dataframe\">\n",
       "  <thead>\n",
       "    <tr style=\"text-align: right;\">\n",
       "      <th></th>\n",
       "      <th>@timestamp</th>\n",
       "      <th>system.memory.used.pct</th>\n",
       "      <th>system.memory.actual.used.pct</th>\n",
       "      <th>system.memory.swap.used.pct</th>\n",
       "    </tr>\n",
       "  </thead>\n",
       "  <tbody>\n",
       "    <tr>\n",
       "      <th>0</th>\n",
       "      <td>September 28th 2018, 09:37:37.546</td>\n",
       "      <td>80.73%</td>\n",
       "      <td>51.3%</td>\n",
       "      <td>3.99%</td>\n",
       "    </tr>\n",
       "    <tr>\n",
       "      <th>1</th>\n",
       "      <td>September 28th 2018, 09:37:38.896</td>\n",
       "      <td>80.8%</td>\n",
       "      <td>51.37%</td>\n",
       "      <td>3.99%</td>\n",
       "    </tr>\n",
       "    <tr>\n",
       "      <th>2</th>\n",
       "      <td>September 28th 2018, 09:37:47.547</td>\n",
       "      <td>80.44%</td>\n",
       "      <td>51%</td>\n",
       "      <td>3.99%</td>\n",
       "    </tr>\n",
       "    <tr>\n",
       "      <th>3</th>\n",
       "      <td>September 28th 2018, 09:37:57.547</td>\n",
       "      <td>80.73%</td>\n",
       "      <td>51.27%</td>\n",
       "      <td>3.99%</td>\n",
       "    </tr>\n",
       "    <tr>\n",
       "      <th>4</th>\n",
       "      <td>September 28th 2018, 09:38:07.547</td>\n",
       "      <td>80.91%</td>\n",
       "      <td>51.45%</td>\n",
       "      <td>3.99%</td>\n",
       "    </tr>\n",
       "  </tbody>\n",
       "</table>\n",
       "</div>"
      ],
      "text/plain": [
       "                          @timestamp system.memory.used.pct  \\\n",
       "0  September 28th 2018, 09:37:37.546                 80.73%   \n",
       "1  September 28th 2018, 09:37:38.896                  80.8%   \n",
       "2  September 28th 2018, 09:37:47.547                 80.44%   \n",
       "3  September 28th 2018, 09:37:57.547                 80.73%   \n",
       "4  September 28th 2018, 09:38:07.547                 80.91%   \n",
       "\n",
       "  system.memory.actual.used.pct system.memory.swap.used.pct  \n",
       "0                         51.3%                       3.99%  \n",
       "1                        51.37%                       3.99%  \n",
       "2                           51%                       3.99%  \n",
       "3                        51.27%                       3.99%  \n",
       "4                        51.45%                       3.99%  "
      ]
     },
     "execution_count": 2,
     "metadata": {},
     "output_type": "execute_result"
    }
   ],
   "source": [
    "df = read_csv('memory.csv', header=0)\n",
    "df.head()"
   ]
  },
  {
   "cell_type": "markdown",
   "metadata": {},
   "source": [
    "## Remove Presentage Marks"
   ]
  },
  {
   "cell_type": "code",
   "execution_count": 3,
   "metadata": {},
   "outputs": [
    {
     "data": {
      "text/html": [
       "<div>\n",
       "<style scoped>\n",
       "    .dataframe tbody tr th:only-of-type {\n",
       "        vertical-align: middle;\n",
       "    }\n",
       "\n",
       "    .dataframe tbody tr th {\n",
       "        vertical-align: top;\n",
       "    }\n",
       "\n",
       "    .dataframe thead th {\n",
       "        text-align: right;\n",
       "    }\n",
       "</style>\n",
       "<table border=\"1\" class=\"dataframe\">\n",
       "  <thead>\n",
       "    <tr style=\"text-align: right;\">\n",
       "      <th></th>\n",
       "      <th>@timestamp</th>\n",
       "      <th>system.memory.used.pct</th>\n",
       "      <th>system.memory.actual.used.pct</th>\n",
       "      <th>system.memory.swap.used.pct</th>\n",
       "    </tr>\n",
       "  </thead>\n",
       "  <tbody>\n",
       "    <tr>\n",
       "      <th>0</th>\n",
       "      <td>September 28th 2018, 09:37:37.546</td>\n",
       "      <td>0.8073</td>\n",
       "      <td>0.5130</td>\n",
       "      <td>0.0399</td>\n",
       "    </tr>\n",
       "    <tr>\n",
       "      <th>1</th>\n",
       "      <td>September 28th 2018, 09:37:38.896</td>\n",
       "      <td>0.8080</td>\n",
       "      <td>0.5137</td>\n",
       "      <td>0.0399</td>\n",
       "    </tr>\n",
       "    <tr>\n",
       "      <th>2</th>\n",
       "      <td>September 28th 2018, 09:37:47.547</td>\n",
       "      <td>0.8044</td>\n",
       "      <td>0.5100</td>\n",
       "      <td>0.0399</td>\n",
       "    </tr>\n",
       "    <tr>\n",
       "      <th>3</th>\n",
       "      <td>September 28th 2018, 09:37:57.547</td>\n",
       "      <td>0.8073</td>\n",
       "      <td>0.5127</td>\n",
       "      <td>0.0399</td>\n",
       "    </tr>\n",
       "    <tr>\n",
       "      <th>4</th>\n",
       "      <td>September 28th 2018, 09:38:07.547</td>\n",
       "      <td>0.8091</td>\n",
       "      <td>0.5145</td>\n",
       "      <td>0.0399</td>\n",
       "    </tr>\n",
       "  </tbody>\n",
       "</table>\n",
       "</div>"
      ],
      "text/plain": [
       "                          @timestamp  system.memory.used.pct  \\\n",
       "0  September 28th 2018, 09:37:37.546                  0.8073   \n",
       "1  September 28th 2018, 09:37:38.896                  0.8080   \n",
       "2  September 28th 2018, 09:37:47.547                  0.8044   \n",
       "3  September 28th 2018, 09:37:57.547                  0.8073   \n",
       "4  September 28th 2018, 09:38:07.547                  0.8091   \n",
       "\n",
       "   system.memory.actual.used.pct  system.memory.swap.used.pct  \n",
       "0                         0.5130                       0.0399  \n",
       "1                         0.5137                       0.0399  \n",
       "2                         0.5100                       0.0399  \n",
       "3                         0.5127                       0.0399  \n",
       "4                         0.5145                       0.0399  "
      ]
     },
     "execution_count": 3,
     "metadata": {},
     "output_type": "execute_result"
    }
   ],
   "source": [
    "for i in range(df.shape[1]):\n",
    "    selected_col = df.iloc[:, i]\n",
    "    col_type = type(selected_col[0])\n",
    "    \n",
    "    if(col_type == str):\n",
    "        if(selected_col.iloc[0].endswith('%')):\n",
    "            df.iloc[:, i] = df.iloc[:, i].str.rstrip('%').astype('float') / 100.0\n",
    "\n",
    "df.head()"
   ]
  },
  {
   "cell_type": "code",
   "execution_count": 4,
   "metadata": {},
   "outputs": [],
   "source": [
    "df.to_csv(\"memory-cleaned.csv\");"
   ]
  },
  {
   "cell_type": "code",
   "execution_count": 5,
   "metadata": {},
   "outputs": [
    {
     "data": {
      "image/png": "[encoded data removed]",
      "text/plain": [
       "<Figure size 432x288 with 1 Axes>"
      ]
     },
     "metadata": {},
     "output_type": "display_data"
    },
    {
     "data": {
      "image/png": "[encoded data removed]",
      "text/plain": [
       "<Figure size 432x288 with 1 Axes>"
      ]
     },
     "metadata": {},
     "output_type": "display_data"
    },
    {
     "data": {
      "image/png": "[encoded data removed]",
      "text/plain": [
       "<Figure size 432x288 with 1 Axes>"
      ]
     },
     "metadata": {},
     "output_type": "display_data"
    }
   ],
   "source": [
    "for i in range(1, df.shape[1]):\n",
    "    pyplot.plot(df[df.columns[i]], label=df.columns[i])\n",
    "    pyplot.legend()\n",
    "    pyplot.title(df.columns[i])\n",
    "    pyplot.show()"
   ]
  },
  {
   "cell_type": "code",
   "execution_count": null,
   "metadata": {},
   "outputs": [],
   "source": []
  }
 ],
 "metadata": {
  "kernelspec": {
   "display_name": "Python 3",
   "language": "python",
   "name": "python3"
  },
  "language_info": {
   "codemirror_mode": {
    "name": "ipython",
    "version": 3
   },
   "file_extension": ".py",
   "mimetype": "text/x-python",
   "name": "python",
   "nbconvert_exporter": "python",
   "pygments_lexer": "ipython3",
   "version": "3.6.5"
  }
 },
 "nbformat": 4,
 "nbformat_minor": 2
}
